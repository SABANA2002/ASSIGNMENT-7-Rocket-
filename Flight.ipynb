{
 "cells": [
  {
   "cell_type": "markdown",
   "id": "9c68c345",
   "metadata": {},
   "source": [
    "<h3 style=\"color:green\">IMPORT LIBRARIES</h3>"
   ]
  },
  {
   "cell_type": "code",
   "execution_count": 1,
   "id": "4da9457f",
   "metadata": {},
   "outputs": [],
   "source": [
    "import pandas as pd\n",
    "from scipy import stats\n",
    "import matplotlib.pyplot as plt\n",
    "import seaborn as sns\n",
    "import statsmodels.api as sm\n",
    "from sklearn.model_selection import train_test_split\n",
    "from sklearn.linear_model import LinearRegression\n",
    "from sklearn.ensemble import GradientBoostingRegressor\n",
    "from sklearn.ensemble import GradientBoostingClassifier\n",
    "from sklearn.ensemble import RandomForestClassifier\n",
    "from sklearn.ensemble import RandomForestRegressor\n",
    "from sklearn.linear_model import LogisticRegression\n",
    "from sklearn.tree import DecisionTreeClassifier\n",
    "from sklearn.tree import DecisionTreeRegressor\n",
    "from sklearn.ensemble import AdaBoostRegressor\n",
    "from sklearn.ensemble import AdaBoostClassifier\n",
    "from sklearn import metrics\n",
    "from sklearn.metrics import mean_squared_error\n"
   ]
  },
  {
   "cell_type": "markdown",
   "id": "ed3e750f",
   "metadata": {},
   "source": [
    "<h3 style=\"color:green\">IMPORT DATASET</h3>"
   ]
  },
  {
   "cell_type": "code",
   "execution_count": 2,
   "id": "b0298105",
   "metadata": {},
   "outputs": [
    {
     "data": {
      "text/html": [
       "<div>\n",
       "<style scoped>\n",
       "    .dataframe tbody tr th:only-of-type {\n",
       "        vertical-align: middle;\n",
       "    }\n",
       "\n",
       "    .dataframe tbody tr th {\n",
       "        vertical-align: top;\n",
       "    }\n",
       "\n",
       "    .dataframe thead th {\n",
       "        text-align: right;\n",
       "    }\n",
       "</style>\n",
       "<table border=\"1\" class=\"dataframe\">\n",
       "  <thead>\n",
       "    <tr style=\"text-align: right;\">\n",
       "      <th></th>\n",
       "      <th>Person</th>\n",
       "      <th>Item_Identifier</th>\n",
       "      <th>Length</th>\n",
       "      <th>Breadth</th>\n",
       "      <th>PaperQuality</th>\n",
       "      <th>Angle</th>\n",
       "      <th>Foldings</th>\n",
       "      <th>Windspeed</th>\n",
       "      <th>Dominanthand</th>\n",
       "      <th>Distance</th>\n",
       "    </tr>\n",
       "  </thead>\n",
       "  <tbody>\n",
       "    <tr>\n",
       "      <th>0</th>\n",
       "      <td>Kevin</td>\n",
       "      <td>Som</td>\n",
       "      <td>29.0</td>\n",
       "      <td>20.0</td>\n",
       "      <td>A</td>\n",
       "      <td>U</td>\n",
       "      <td>8</td>\n",
       "      <td>On</td>\n",
       "      <td>L</td>\n",
       "      <td>5</td>\n",
       "    </tr>\n",
       "    <tr>\n",
       "      <th>1</th>\n",
       "      <td>Kevin</td>\n",
       "      <td>kevin</td>\n",
       "      <td>23.0</td>\n",
       "      <td>16.0</td>\n",
       "      <td>B</td>\n",
       "      <td>U</td>\n",
       "      <td>8</td>\n",
       "      <td>On</td>\n",
       "      <td>L</td>\n",
       "      <td>5</td>\n",
       "    </tr>\n",
       "    <tr>\n",
       "      <th>2</th>\n",
       "      <td>Kevin</td>\n",
       "      <td>RR</td>\n",
       "      <td>NaN</td>\n",
       "      <td>18.0</td>\n",
       "      <td>A</td>\n",
       "      <td>L</td>\n",
       "      <td>10</td>\n",
       "      <td>On</td>\n",
       "      <td>R</td>\n",
       "      <td>6</td>\n",
       "    </tr>\n",
       "    <tr>\n",
       "      <th>3</th>\n",
       "      <td>Priya</td>\n",
       "      <td>Nithya</td>\n",
       "      <td>27.0</td>\n",
       "      <td>20.0</td>\n",
       "      <td>A</td>\n",
       "      <td>U</td>\n",
       "      <td>10</td>\n",
       "      <td>On</td>\n",
       "      <td>R</td>\n",
       "      <td>4</td>\n",
       "    </tr>\n",
       "    <tr>\n",
       "      <th>4</th>\n",
       "      <td>Priya</td>\n",
       "      <td>Priya</td>\n",
       "      <td>29.5</td>\n",
       "      <td>17.5</td>\n",
       "      <td>B</td>\n",
       "      <td>U</td>\n",
       "      <td>5</td>\n",
       "      <td>Off</td>\n",
       "      <td>R</td>\n",
       "      <td>8</td>\n",
       "    </tr>\n",
       "  </tbody>\n",
       "</table>\n",
       "</div>"
      ],
      "text/plain": [
       "  Person Item_Identifier  Length  Breadth PaperQuality Angle  Foldings  \\\n",
       "0  Kevin             Som    29.0     20.0            A     U         8   \n",
       "1  Kevin           kevin    23.0     16.0            B     U         8   \n",
       "2  Kevin              RR     NaN     18.0            A     L        10   \n",
       "3  Priya          Nithya    27.0     20.0            A     U        10   \n",
       "4  Priya           Priya    29.5     17.5            B     U         5   \n",
       "\n",
       "  Windspeed  Dominanthand  Distance  \n",
       "0         On            L         5  \n",
       "1         On            L         5  \n",
       "2         On            R         6  \n",
       "3         On            R         4  \n",
       "4        Off            R         8  "
      ]
     },
     "execution_count": 2,
     "metadata": {},
     "output_type": "execute_result"
    }
   ],
   "source": [
    "flight=pd.read_excel(\"C:/Users/HP/Downloads/Flight .xlsx\")\n",
    "flight.head(5)"
   ]
  },
  {
   "cell_type": "markdown",
   "id": "1f1b2f9c",
   "metadata": {},
   "source": [
    "<h3 style=\"color:green\">DATA CLEANING AND DATA VISUALISATION</h3>"
   ]
  },
  {
   "cell_type": "code",
   "execution_count": 3,
   "id": "78490d96",
   "metadata": {},
   "outputs": [
    {
     "data": {
      "text/plain": [
       "(88, 10)"
      ]
     },
     "execution_count": 3,
     "metadata": {},
     "output_type": "execute_result"
    }
   ],
   "source": [
    "flight.shape"
   ]
  },
  {
   "cell_type": "code",
   "execution_count": 4,
   "id": "4f1480d7",
   "metadata": {
    "scrolled": true
   },
   "outputs": [
    {
     "data": {
      "text/plain": [
       "Person              0\n",
       "Item_Identifier     0\n",
       "Length             17\n",
       "Breadth             0\n",
       "PaperQuality        8\n",
       "Angle               4\n",
       "Foldings            0\n",
       "Windspeed           0\n",
       "Dominanthand        0\n",
       "Distance            0\n",
       "dtype: int64"
      ]
     },
     "execution_count": 4,
     "metadata": {},
     "output_type": "execute_result"
    }
   ],
   "source": [
    "flight.isnull().sum()"
   ]
  },
  {
   "cell_type": "markdown",
   "id": "e40cd937",
   "metadata": {},
   "source": [
    "<h3 style=\"color:green\">LENGTH</h3>"
   ]
  },
  {
   "cell_type": "code",
   "execution_count": 5,
   "id": "6861e902",
   "metadata": {},
   "outputs": [
    {
     "data": {
      "text/plain": [
       "count    71.000000\n",
       "mean     26.708451\n",
       "std      11.920268\n",
       "min       0.000000\n",
       "25%      22.500000\n",
       "50%      28.500000\n",
       "75%      29.500000\n",
       "max      98.000000\n",
       "Name: Length, dtype: float64"
      ]
     },
     "execution_count": 5,
     "metadata": {},
     "output_type": "execute_result"
    }
   ],
   "source": [
    "flight.Length.describe()"
   ]
  },
  {
   "cell_type": "code",
   "execution_count": 6,
   "id": "528499c5",
   "metadata": {},
   "outputs": [],
   "source": [
    "flight.Length.fillna(flight.Length.mean(),inplace=True)"
   ]
  },
  {
   "cell_type": "code",
   "execution_count": 7,
   "id": "50ac6c26",
   "metadata": {},
   "outputs": [
    {
     "name": "stdout",
     "output_type": "stream",
     "text": [
      "24.5 29.5 5.0 37.0 17.0\n"
     ]
    }
   ],
   "source": [
    "Q1=flight.Length.quantile(0.25)\n",
    "Q3=flight.Length.quantile(0.75)\n",
    "IQR=Q3-Q1\n",
    "UE=Q3+1.5*(IQR)\n",
    "LE=Q1-1.5*(IQR)\n",
    "print(Q1,Q3,IQR,UE,LE)"
   ]
  },
  {
   "cell_type": "code",
   "execution_count": 8,
   "id": "778f1be1",
   "metadata": {},
   "outputs": [
    {
     "name": "stderr",
     "output_type": "stream",
     "text": [
      "C:\\Users\\HP\\AppData\\Local\\Temp/ipykernel_3300/3988765081.py:1: SettingWithCopyWarning: \n",
      "A value is trying to be set on a copy of a slice from a DataFrame\n",
      "\n",
      "See the caveats in the documentation: https://pandas.pydata.org/pandas-docs/stable/user_guide/indexing.html#returning-a-view-versus-a-copy\n",
      "  flight.Length[flight.Length>UE]=UE\n",
      "C:\\Users\\HP\\AppData\\Local\\Temp/ipykernel_3300/3988765081.py:2: SettingWithCopyWarning: \n",
      "A value is trying to be set on a copy of a slice from a DataFrame\n",
      "\n",
      "See the caveats in the documentation: https://pandas.pydata.org/pandas-docs/stable/user_guide/indexing.html#returning-a-view-versus-a-copy\n",
      "  flight.Length[flight.Length<LE]=LE\n"
     ]
    }
   ],
   "source": [
    "flight.Length[flight.Length>UE]=UE\n",
    "flight.Length[flight.Length<LE]=LE"
   ]
  },
  {
   "cell_type": "code",
   "execution_count": 9,
   "id": "62a7982a",
   "metadata": {},
   "outputs": [
    {
     "data": {
      "text/plain": [
       "{'whiskers': [<matplotlib.lines.Line2D at 0x25d5409d5b0>,\n",
       "  <matplotlib.lines.Line2D at 0x25d5409d880>],\n",
       " 'caps': [<matplotlib.lines.Line2D at 0x25d5409dc10>,\n",
       "  <matplotlib.lines.Line2D at 0x25d5409dfa0>],\n",
       " 'boxes': [<matplotlib.lines.Line2D at 0x25d5409d160>],\n",
       " 'medians': [<matplotlib.lines.Line2D at 0x25d540aa370>],\n",
       " 'fliers': [<matplotlib.lines.Line2D at 0x25d540aa700>],\n",
       " 'means': []}"
      ]
     },
     "execution_count": 9,
     "metadata": {},
     "output_type": "execute_result"
    },
    {
     "data": {
      "image/png": "[encoded data removed]",
      "text/plain": [
       "<Figure size 432x288 with 1 Axes>"
      ]
     },
     "metadata": {
      "needs_background": "light"
     },
     "output_type": "display_data"
    }
   ],
   "source": [
    "plt.boxplot(flight.Length)"
   ]
  },
  {
   "cell_type": "code",
   "execution_count": 10,
   "id": "991623d7",
   "metadata": {},
   "outputs": [
    {
     "data": {
      "text/plain": [
       "<AxesSubplot:>"
      ]
     },
     "execution_count": 10,
     "metadata": {},
     "output_type": "execute_result"
    },
    {
     "data": {
      "image/png": "[encoded data removed]",
      "text/plain": [
       "<Figure size 432x288 with 1 Axes>"
      ]
     },
     "metadata": {
      "needs_background": "light"
     },
     "output_type": "display_data"
    }
   ],
   "source": [
    "flight.Length.hist()"
   ]
  },
  {
   "cell_type": "markdown",
   "id": "a0300716",
   "metadata": {},
   "source": [
    "<h3 style=\"color:green\">BREADTH</h3>"
   ]
  },
  {
   "cell_type": "code",
   "execution_count": 11,
   "id": "1192e1ab",
   "metadata": {},
   "outputs": [
    {
     "data": {
      "text/plain": [
       "count    88.000000\n",
       "mean     18.500000\n",
       "std       1.339068\n",
       "min      16.000000\n",
       "25%      17.500000\n",
       "50%      18.500000\n",
       "75%      20.000000\n",
       "max      20.500000\n",
       "Name: Breadth, dtype: float64"
      ]
     },
     "execution_count": 11,
     "metadata": {},
     "output_type": "execute_result"
    }
   ],
   "source": [
    "flight.Breadth.describe()"
   ]
  },
  {
   "cell_type": "code",
   "execution_count": 12,
   "id": "2197d3bf",
   "metadata": {},
   "outputs": [
    {
     "data": {
      "text/plain": [
       "{'whiskers': [<matplotlib.lines.Line2D at 0x25d548e79a0>,\n",
       "  <matplotlib.lines.Line2D at 0x25d548e7d30>],\n",
       " 'caps': [<matplotlib.lines.Line2D at 0x25d548f3100>,\n",
       "  <matplotlib.lines.Line2D at 0x25d548f3490>],\n",
       " 'boxes': [<matplotlib.lines.Line2D at 0x25d548e7610>],\n",
       " 'medians': [<matplotlib.lines.Line2D at 0x25d548f3820>],\n",
       " 'fliers': [<matplotlib.lines.Line2D at 0x25d548f3bb0>],\n",
       " 'means': []}"
      ]
     },
     "execution_count": 12,
     "metadata": {},
     "output_type": "execute_result"
    },
    {
     "data": {
      "image/png": "[encoded data removed]",
      "text/plain": [
       "<Figure size 432x288 with 1 Axes>"
      ]
     },
     "metadata": {
      "needs_background": "light"
     },
     "output_type": "display_data"
    }
   ],
   "source": [
    "plt.boxplot(flight.Breadth)"
   ]
  },
  {
   "cell_type": "code",
   "execution_count": 13,
   "id": "69a1fb31",
   "metadata": {},
   "outputs": [
    {
     "data": {
      "text/plain": [
       "<AxesSubplot:>"
      ]
     },
     "execution_count": 13,
     "metadata": {},
     "output_type": "execute_result"
    },
    {
     "data": {
      "image/png": "[encoded data removed]",
      "text/plain": [
       "<Figure size 432x288 with 1 Axes>"
      ]
     },
     "metadata": {
      "needs_background": "light"
     },
     "output_type": "display_data"
    }
   ],
   "source": [
    "flight.Breadth.hist()"
   ]
  },
  {
   "cell_type": "markdown",
   "id": "eab2815f",
   "metadata": {},
   "source": [
    "<h3 style=\"color:green\">PAPER QUALITY</h3>"
   ]
  },
  {
   "cell_type": "code",
   "execution_count": 14,
   "id": "9b0653bf",
   "metadata": {},
   "outputs": [
    {
     "data": {
      "text/plain": [
       "count     80\n",
       "unique     2\n",
       "top        B\n",
       "freq      47\n",
       "Name: PaperQuality, dtype: object"
      ]
     },
     "execution_count": 14,
     "metadata": {},
     "output_type": "execute_result"
    }
   ],
   "source": [
    "flight.PaperQuality.describe()"
   ]
  },
  {
   "cell_type": "code",
   "execution_count": 15,
   "id": "9fe6e4df",
   "metadata": {},
   "outputs": [
    {
     "data": {
      "text/plain": [
       "B    47\n",
       "A    33\n",
       "Name: PaperQuality, dtype: int64"
      ]
     },
     "execution_count": 15,
     "metadata": {},
     "output_type": "execute_result"
    }
   ],
   "source": [
    "flight.PaperQuality.value_counts()"
   ]
  },
  {
   "cell_type": "code",
   "execution_count": 16,
   "id": "31fcdd73",
   "metadata": {},
   "outputs": [],
   "source": [
    "flight.PaperQuality.fillna(\"others\",inplace=True)"
   ]
  },
  {
   "cell_type": "code",
   "execution_count": 17,
   "id": "d0d4a038",
   "metadata": {},
   "outputs": [
    {
     "data": {
      "text/plain": [
       "<AxesSubplot:xlabel='PaperQuality', ylabel='count'>"
      ]
     },
     "execution_count": 17,
     "metadata": {},
     "output_type": "execute_result"
    },
    {
     "data": {
      "image/png": "[encoded data removed]",
      "text/plain": [
       "<Figure size 432x288 with 1 Axes>"
      ]
     },
     "metadata": {
      "needs_background": "light"
     },
     "output_type": "display_data"
    }
   ],
   "source": [
    "sns.countplot(x=\"PaperQuality\",data=flight)"
   ]
  },
  {
   "cell_type": "markdown",
   "id": "76bc98c1",
   "metadata": {},
   "source": [
    "<h3 style=\"color:green\">ANGLE</h3>"
   ]
  },
  {
   "cell_type": "code",
   "execution_count": 18,
   "id": "b781758f",
   "metadata": {},
   "outputs": [
    {
     "data": {
      "text/plain": [
       "count     84\n",
       "unique     2\n",
       "top        U\n",
       "freq      62\n",
       "Name: Angle, dtype: object"
      ]
     },
     "execution_count": 18,
     "metadata": {},
     "output_type": "execute_result"
    }
   ],
   "source": [
    "flight.Angle.describe()"
   ]
  },
  {
   "cell_type": "code",
   "execution_count": 19,
   "id": "c67eb571",
   "metadata": {},
   "outputs": [
    {
     "data": {
      "text/plain": [
       "U    62\n",
       "L    22\n",
       "Name: Angle, dtype: int64"
      ]
     },
     "execution_count": 19,
     "metadata": {},
     "output_type": "execute_result"
    }
   ],
   "source": [
    "flight.Angle.value_counts()"
   ]
  },
  {
   "cell_type": "code",
   "execution_count": 20,
   "id": "a99a85a8",
   "metadata": {},
   "outputs": [],
   "source": [
    "flight.Angle.fillna(\"U\",inplace=True)"
   ]
  },
  {
   "cell_type": "code",
   "execution_count": 21,
   "id": "235df2ee",
   "metadata": {},
   "outputs": [
    {
     "data": {
      "text/plain": [
       "<AxesSubplot:xlabel='Angle', ylabel='count'>"
      ]
     },
     "execution_count": 21,
     "metadata": {},
     "output_type": "execute_result"
    },
    {
     "data": {
      "image/png": "[encoded data removed]",
      "text/plain": [
       "<Figure size 432x288 with 1 Axes>"
      ]
     },
     "metadata": {
      "needs_background": "light"
     },
     "output_type": "display_data"
    }
   ],
   "source": [
    "sns.countplot(x=\"Angle\",data=flight)"
   ]
  },
  {
   "cell_type": "markdown",
   "id": "30ef2bc1",
   "metadata": {},
   "source": [
    "<h3 style=\"color:green\">FOLDINGS</h2>"
   ]
  },
  {
   "cell_type": "code",
   "execution_count": 22,
   "id": "5cd6a2c3",
   "metadata": {},
   "outputs": [
    {
     "data": {
      "text/plain": [
       "count    88.000000\n",
       "mean      8.136364\n",
       "std       1.736570\n",
       "min       5.000000\n",
       "25%       8.000000\n",
       "50%       8.000000\n",
       "75%      10.000000\n",
       "max      10.000000\n",
       "Name: Foldings, dtype: float64"
      ]
     },
     "execution_count": 22,
     "metadata": {},
     "output_type": "execute_result"
    }
   ],
   "source": [
    "flight.Foldings.describe()"
   ]
  },
  {
   "cell_type": "code",
   "execution_count": 23,
   "id": "5a1bd483",
   "metadata": {},
   "outputs": [
    {
     "data": {
      "text/plain": [
       "8     42\n",
       "10    30\n",
       "5     16\n",
       "Name: Foldings, dtype: int64"
      ]
     },
     "execution_count": 23,
     "metadata": {},
     "output_type": "execute_result"
    }
   ],
   "source": [
    "flight.Foldings.value_counts()"
   ]
  },
  {
   "cell_type": "code",
   "execution_count": 24,
   "id": "7fd5f812",
   "metadata": {},
   "outputs": [
    {
     "name": "stderr",
     "output_type": "stream",
     "text": [
      "C:\\Users\\HP\\anaconda3\\lib\\site-packages\\seaborn\\_decorators.py:36: FutureWarning: Pass the following variable as a keyword arg: x. From version 0.12, the only valid positional argument will be `data`, and passing other arguments without an explicit keyword will result in an error or misinterpretation.\n",
      "  warnings.warn(\n"
     ]
    },
    {
     "data": {
      "text/plain": [
       "<AxesSubplot:xlabel='Foldings', ylabel='count'>"
      ]
     },
     "execution_count": 24,
     "metadata": {},
     "output_type": "execute_result"
    },
    {
     "data": {
      "image/png": "[encoded data removed]",
      "text/plain": [
       "<Figure size 432x288 with 1 Axes>"
      ]
     },
     "metadata": {
      "needs_background": "light"
     },
     "output_type": "display_data"
    }
   ],
   "source": [
    "flight.Foldings.replace([5,8,10],['five','eight','ten'],inplace=True)\n",
    "sns.countplot(flight.Foldings)"
   ]
  },
  {
   "cell_type": "markdown",
   "id": "faa08b4c",
   "metadata": {},
   "source": [
    "<h3 style=\"color:green\">DOMINANT HAND</h2>"
   ]
  },
  {
   "cell_type": "code",
   "execution_count": 25,
   "id": "be499f49",
   "metadata": {},
   "outputs": [
    {
     "data": {
      "text/plain": [
       "count     88\n",
       "unique     2\n",
       "top        R\n",
       "freq      70\n",
       "Name: Dominanthand, dtype: object"
      ]
     },
     "execution_count": 25,
     "metadata": {},
     "output_type": "execute_result"
    }
   ],
   "source": [
    "flight.Dominanthand.describe()"
   ]
  },
  {
   "cell_type": "code",
   "execution_count": 26,
   "id": "f81e7f43",
   "metadata": {},
   "outputs": [
    {
     "data": {
      "text/plain": [
       "R    70\n",
       "L    18\n",
       "Name: Dominanthand, dtype: int64"
      ]
     },
     "execution_count": 26,
     "metadata": {},
     "output_type": "execute_result"
    }
   ],
   "source": [
    "flight.Dominanthand.value_counts()"
   ]
  },
  {
   "cell_type": "code",
   "execution_count": 27,
   "id": "14c4b570",
   "metadata": {},
   "outputs": [
    {
     "data": {
      "text/plain": [
       "<AxesSubplot:xlabel='Dominanthand', ylabel='count'>"
      ]
     },
     "execution_count": 27,
     "metadata": {},
     "output_type": "execute_result"
    },
    {
     "data": {
      "image/png": "[encoded data removed]",
      "text/plain": [
       "<Figure size 432x288 with 1 Axes>"
      ]
     },
     "metadata": {
      "needs_background": "light"
     },
     "output_type": "display_data"
    }
   ],
   "source": [
    "sns.countplot(x=\"Dominanthand\",data=flight)"
   ]
  },
  {
   "cell_type": "code",
   "execution_count": 28,
   "id": "173160c4",
   "metadata": {},
   "outputs": [],
   "source": [
    "flight.drop('Item_Identifier',axis=1,inplace=True)"
   ]
  },
  {
   "cell_type": "code",
   "execution_count": 29,
   "id": "1c56f4b2",
   "metadata": {},
   "outputs": [
    {
     "data": {
      "text/plain": [
       "Index(['Person', 'Length', 'Breadth', 'PaperQuality', 'Angle', 'Foldings',\n",
       "       'Windspeed ', 'Dominanthand', 'Distance'],\n",
       "      dtype='object')"
      ]
     },
     "execution_count": 29,
     "metadata": {},
     "output_type": "execute_result"
    }
   ],
   "source": [
    "flight.columns"
   ]
  },
  {
   "cell_type": "markdown",
   "id": "7ac3d373",
   "metadata": {},
   "source": [
    "<h2 style=\"color:green\">HYPOTHESIS TESTING</h2>"
   ]
  },
  {
   "cell_type": "code",
   "execution_count": 30,
   "id": "18bac830",
   "metadata": {},
   "outputs": [
    {
     "data": {
      "text/plain": [
       "F_onewayResult(statistic=0.01536537430766485, pvalue=0.9016384670871649)"
      ]
     },
     "execution_count": 30,
     "metadata": {},
     "output_type": "execute_result"
    }
   ],
   "source": [
    "per1=flight.Distance[flight.Angle==\"U\"]\n",
    "per2=flight.Distance[flight.Angle==\"L\"]\n",
    "stats.f_oneway(per1,per2)"
   ]
  },
  {
   "cell_type": "markdown",
   "id": "3c62b59e",
   "metadata": {},
   "source": [
    "<h3 style=\"color:green\">Creating Dummies</h3>"
   ]
  },
  {
   "cell_type": "code",
   "execution_count": 31,
   "id": "89e4ce3e",
   "metadata": {
    "scrolled": true
   },
   "outputs": [
    {
     "data": {
      "text/plain": [
       "Index(['Length', 'Breadth', 'Distance', 'Person_Giri', 'Person_Kevin',\n",
       "       'Person_Priya', 'Person_Shabana', 'PaperQuality_A', 'PaperQuality_B',\n",
       "       'PaperQuality_others', 'Angle_L', 'Angle_U', 'Foldings_eight',\n",
       "       'Foldings_five', 'Foldings_ten', 'Windspeed _Off', 'Windspeed _On',\n",
       "       'Dominanthand_L', 'Dominanthand_R'],\n",
       "      dtype='object')"
      ]
     },
     "execution_count": 31,
     "metadata": {},
     "output_type": "execute_result"
    }
   ],
   "source": [
    "dummy=pd.get_dummies(flight)\n",
    "dummy.columns"
   ]
  },
  {
   "cell_type": "code",
   "execution_count": 32,
   "id": "a9e1e9eb",
   "metadata": {},
   "outputs": [
    {
     "data": {
      "text/plain": [
       "(88, 19)"
      ]
     },
     "execution_count": 32,
     "metadata": {},
     "output_type": "execute_result"
    }
   ],
   "source": [
    "dummy.shape"
   ]
  },
  {
   "cell_type": "markdown",
   "id": "c794c3fd",
   "metadata": {},
   "source": [
    "<h3 style=\"color:green\">Scaling</h3>"
   ]
  },
  {
   "cell_type": "code",
   "execution_count": 33,
   "id": "ece6a13c",
   "metadata": {},
   "outputs": [],
   "source": [
    "from sklearn.preprocessing import MinMaxScaler\n",
    "scaler = MinMaxScaler().fit(dummy)\n",
    "scaled_data=scaler.transform(dummy)\n",
    "final= pd.DataFrame(scaled_data)"
   ]
  },
  {
   "cell_type": "code",
   "execution_count": 36,
   "id": "dbc17522",
   "metadata": {},
   "outputs": [
    {
     "data": {
      "text/plain": [
       "0     5\n",
       "1     5\n",
       "2     6\n",
       "3     4\n",
       "4     8\n",
       "     ..\n",
       "83    7\n",
       "84    5\n",
       "85    4\n",
       "86    5\n",
       "87    7\n",
       "Name: Distance, Length: 88, dtype: int64"
      ]
     },
     "execution_count": 36,
     "metadata": {},
     "output_type": "execute_result"
    }
   ],
   "source": [
    "dummy.Distance"
   ]
  },
  {
   "cell_type": "code",
   "execution_count": 37,
   "id": "73bd017c",
   "metadata": {},
   "outputs": [
    {
     "data": {
      "text/html": [
       "<div>\n",
       "<style scoped>\n",
       "    .dataframe tbody tr th:only-of-type {\n",
       "        vertical-align: middle;\n",
       "    }\n",
       "\n",
       "    .dataframe tbody tr th {\n",
       "        vertical-align: top;\n",
       "    }\n",
       "\n",
       "    .dataframe thead th {\n",
       "        text-align: right;\n",
       "    }\n",
       "</style>\n",
       "<table border=\"1\" class=\"dataframe\">\n",
       "  <thead>\n",
       "    <tr style=\"text-align: right;\">\n",
       "      <th></th>\n",
       "      <th>0</th>\n",
       "      <th>1</th>\n",
       "      <th>2</th>\n",
       "      <th>3</th>\n",
       "      <th>4</th>\n",
       "      <th>5</th>\n",
       "      <th>6</th>\n",
       "      <th>7</th>\n",
       "      <th>8</th>\n",
       "      <th>9</th>\n",
       "      <th>10</th>\n",
       "      <th>11</th>\n",
       "      <th>12</th>\n",
       "      <th>13</th>\n",
       "      <th>14</th>\n",
       "      <th>15</th>\n",
       "      <th>16</th>\n",
       "      <th>17</th>\n",
       "      <th>18</th>\n",
       "    </tr>\n",
       "  </thead>\n",
       "  <tbody>\n",
       "    <tr>\n",
       "      <th>0</th>\n",
       "      <td>0.600000</td>\n",
       "      <td>0.888889</td>\n",
       "      <td>0.4</td>\n",
       "      <td>0.0</td>\n",
       "      <td>1.0</td>\n",
       "      <td>0.0</td>\n",
       "      <td>0.0</td>\n",
       "      <td>1.0</td>\n",
       "      <td>0.0</td>\n",
       "      <td>0.0</td>\n",
       "      <td>0.0</td>\n",
       "      <td>1.0</td>\n",
       "      <td>1.0</td>\n",
       "      <td>0.0</td>\n",
       "      <td>0.0</td>\n",
       "      <td>0.0</td>\n",
       "      <td>1.0</td>\n",
       "      <td>1.0</td>\n",
       "      <td>0.0</td>\n",
       "    </tr>\n",
       "    <tr>\n",
       "      <th>1</th>\n",
       "      <td>0.300000</td>\n",
       "      <td>0.000000</td>\n",
       "      <td>0.4</td>\n",
       "      <td>0.0</td>\n",
       "      <td>1.0</td>\n",
       "      <td>0.0</td>\n",
       "      <td>0.0</td>\n",
       "      <td>0.0</td>\n",
       "      <td>1.0</td>\n",
       "      <td>0.0</td>\n",
       "      <td>0.0</td>\n",
       "      <td>1.0</td>\n",
       "      <td>1.0</td>\n",
       "      <td>0.0</td>\n",
       "      <td>0.0</td>\n",
       "      <td>0.0</td>\n",
       "      <td>1.0</td>\n",
       "      <td>1.0</td>\n",
       "      <td>0.0</td>\n",
       "    </tr>\n",
       "    <tr>\n",
       "      <th>2</th>\n",
       "      <td>0.485423</td>\n",
       "      <td>0.444444</td>\n",
       "      <td>0.5</td>\n",
       "      <td>0.0</td>\n",
       "      <td>1.0</td>\n",
       "      <td>0.0</td>\n",
       "      <td>0.0</td>\n",
       "      <td>1.0</td>\n",
       "      <td>0.0</td>\n",
       "      <td>0.0</td>\n",
       "      <td>1.0</td>\n",
       "      <td>0.0</td>\n",
       "      <td>0.0</td>\n",
       "      <td>0.0</td>\n",
       "      <td>1.0</td>\n",
       "      <td>0.0</td>\n",
       "      <td>1.0</td>\n",
       "      <td>0.0</td>\n",
       "      <td>1.0</td>\n",
       "    </tr>\n",
       "    <tr>\n",
       "      <th>3</th>\n",
       "      <td>0.500000</td>\n",
       "      <td>0.888889</td>\n",
       "      <td>0.3</td>\n",
       "      <td>0.0</td>\n",
       "      <td>0.0</td>\n",
       "      <td>1.0</td>\n",
       "      <td>0.0</td>\n",
       "      <td>1.0</td>\n",
       "      <td>0.0</td>\n",
       "      <td>0.0</td>\n",
       "      <td>0.0</td>\n",
       "      <td>1.0</td>\n",
       "      <td>0.0</td>\n",
       "      <td>0.0</td>\n",
       "      <td>1.0</td>\n",
       "      <td>0.0</td>\n",
       "      <td>1.0</td>\n",
       "      <td>0.0</td>\n",
       "      <td>1.0</td>\n",
       "    </tr>\n",
       "    <tr>\n",
       "      <th>4</th>\n",
       "      <td>0.625000</td>\n",
       "      <td>0.333333</td>\n",
       "      <td>0.7</td>\n",
       "      <td>0.0</td>\n",
       "      <td>0.0</td>\n",
       "      <td>1.0</td>\n",
       "      <td>0.0</td>\n",
       "      <td>0.0</td>\n",
       "      <td>1.0</td>\n",
       "      <td>0.0</td>\n",
       "      <td>0.0</td>\n",
       "      <td>1.0</td>\n",
       "      <td>0.0</td>\n",
       "      <td>1.0</td>\n",
       "      <td>0.0</td>\n",
       "      <td>1.0</td>\n",
       "      <td>0.0</td>\n",
       "      <td>0.0</td>\n",
       "      <td>1.0</td>\n",
       "    </tr>\n",
       "  </tbody>\n",
       "</table>\n",
       "</div>"
      ],
      "text/plain": [
       "         0         1    2    3    4    5    6    7    8    9    10   11   12  \\\n",
       "0  0.600000  0.888889  0.4  0.0  1.0  0.0  0.0  1.0  0.0  0.0  0.0  1.0  1.0   \n",
       "1  0.300000  0.000000  0.4  0.0  1.0  0.0  0.0  0.0  1.0  0.0  0.0  1.0  1.0   \n",
       "2  0.485423  0.444444  0.5  0.0  1.0  0.0  0.0  1.0  0.0  0.0  1.0  0.0  0.0   \n",
       "3  0.500000  0.888889  0.3  0.0  0.0  1.0  0.0  1.0  0.0  0.0  0.0  1.0  0.0   \n",
       "4  0.625000  0.333333  0.7  0.0  0.0  1.0  0.0  0.0  1.0  0.0  0.0  1.0  0.0   \n",
       "\n",
       "    13   14   15   16   17   18  \n",
       "0  0.0  0.0  0.0  1.0  1.0  0.0  \n",
       "1  0.0  0.0  0.0  1.0  1.0  0.0  \n",
       "2  0.0  1.0  0.0  1.0  0.0  1.0  \n",
       "3  0.0  1.0  0.0  1.0  0.0  1.0  \n",
       "4  1.0  0.0  1.0  0.0  0.0  1.0  "
      ]
     },
     "execution_count": 37,
     "metadata": {},
     "output_type": "execute_result"
    }
   ],
   "source": [
    "final.head()"
   ]
  },
  {
   "cell_type": "markdown",
   "id": "babee5b0",
   "metadata": {},
   "source": [
    "<h3 style=\"color:green\">Separate X and Y</h3>"
   ]
  },
  {
   "cell_type": "code",
   "execution_count": 39,
   "id": "60aeae49",
   "metadata": {},
   "outputs": [],
   "source": [
    "y=dummy.Distance\n",
    "x=dummy.drop(\"Distance\",axis=1)"
   ]
  },
  {
   "cell_type": "code",
   "execution_count": 40,
   "id": "45d62f50",
   "metadata": {},
   "outputs": [
    {
     "data": {
      "text/plain": [
       "(88,)"
      ]
     },
     "execution_count": 40,
     "metadata": {},
     "output_type": "execute_result"
    }
   ],
   "source": [
    "y.shape"
   ]
  },
  {
   "cell_type": "code",
   "execution_count": 41,
   "id": "0ea64c04",
   "metadata": {},
   "outputs": [
    {
     "data": {
      "text/plain": [
       "(88, 18)"
      ]
     },
     "execution_count": 41,
     "metadata": {},
     "output_type": "execute_result"
    }
   ],
   "source": [
    "x.shape"
   ]
  },
  {
   "cell_type": "markdown",
   "id": "e1ba3e38",
   "metadata": {},
   "source": [
    "<h3 style=\"color:green\">Split Train and Test</h3>"
   ]
  },
  {
   "cell_type": "code",
   "execution_count": 44,
   "id": "6c3c3dfa",
   "metadata": {},
   "outputs": [],
   "source": [
    "x_train,x_test,y_train,y_test=train_test_split(x,y,test_size=0.2,random_state=100)"
   ]
  },
  {
   "cell_type": "markdown",
   "id": "14b27a72",
   "metadata": {},
   "source": [
    "<h2> PERFORMING REGRESSION </h2>"
   ]
  },
  {
   "cell_type": "markdown",
   "id": "02908c84",
   "metadata": {},
   "source": [
    "<h3 style=\"color:green\">LinearRegression</h3>"
   ]
  },
  {
   "cell_type": "code",
   "execution_count": 45,
   "id": "bf51af5c",
   "metadata": {},
   "outputs": [
    {
     "name": "stdout",
     "output_type": "stream",
     "text": [
      "Train Score = 0.17950652962843983\n",
      "Test Score = -0.16501745027819914\n"
     ]
    }
   ],
   "source": [
    "model=LinearRegression().fit(x_train,y_train)\n",
    "print(\"Train Score =\",model.score(x_train,y_train))\n",
    "print(\"Test Score =\",model.score(x_test,y_test))"
   ]
  },
  {
   "cell_type": "code",
   "execution_count": 46,
   "id": "446288ec",
   "metadata": {},
   "outputs": [],
   "source": [
    "predicts=model.predict(x_test)"
   ]
  },
  {
   "cell_type": "code",
   "execution_count": 47,
   "id": "6dc4df03",
   "metadata": {},
   "outputs": [
    {
     "data": {
      "text/plain": [
       "2.073763852030866"
      ]
     },
     "execution_count": 47,
     "metadata": {},
     "output_type": "execute_result"
    }
   ],
   "source": [
    "mean_squared_error(y_test,predicts,squared=False)"
   ]
  },
  {
   "cell_type": "markdown",
   "id": "eab0bb3b",
   "metadata": {},
   "source": [
    "<h3 style=\"color:green\">DecisionTree Regressor</h3>"
   ]
  },
  {
   "cell_type": "code",
   "execution_count": 48,
   "id": "a2862941",
   "metadata": {},
   "outputs": [
    {
     "name": "stdout",
     "output_type": "stream",
     "text": [
      "Train Score = 0.3580246913580246\n",
      "Test Score = -0.765585284280937\n"
     ]
    }
   ],
   "source": [
    "model1=DecisionTreeRegressor().fit(x_train,y_train)\n",
    "print(\"Train Score =\",model1.score(x_train,y_train))\n",
    "print(\"Test Score =\",model1.score(x_test,y_test))\n",
    "predict_y=model1.predict(x_test)"
   ]
  },
  {
   "cell_type": "code",
   "execution_count": 49,
   "id": "f6288a16",
   "metadata": {},
   "outputs": [],
   "source": [
    "predicts=model1.predict(x_test)"
   ]
  },
  {
   "cell_type": "code",
   "execution_count": 50,
   "id": "3d46ae5d",
   "metadata": {},
   "outputs": [
    {
     "data": {
      "text/plain": [
       "2.552921347673564"
      ]
     },
     "execution_count": 50,
     "metadata": {},
     "output_type": "execute_result"
    }
   ],
   "source": [
    "mean_squared_error(y_test,predicts,squared=False)"
   ]
  },
  {
   "cell_type": "markdown",
   "id": "e4c31f3b",
   "metadata": {},
   "source": [
    "<h3 style=\"color:green\">Random Forest</h3>"
   ]
  },
  {
   "cell_type": "code",
   "execution_count": 51,
   "id": "3340c5fd",
   "metadata": {},
   "outputs": [
    {
     "data": {
      "text/plain": [
       "RandomForestRegressor(random_state=0)"
      ]
     },
     "execution_count": 51,
     "metadata": {},
     "output_type": "execute_result"
    }
   ],
   "source": [
    "model2=RandomForestRegressor(n_estimators = 100, random_state = 0)\n",
    "model2.fit(x_train, y_train)"
   ]
  },
  {
   "cell_type": "code",
   "execution_count": 52,
   "id": "60a47ddb",
   "metadata": {},
   "outputs": [
    {
     "data": {
      "text/plain": [
       "0.3185553697530049"
      ]
     },
     "execution_count": 52,
     "metadata": {},
     "output_type": "execute_result"
    }
   ],
   "source": [
    "model2.score(x_train,y_train)"
   ]
  },
  {
   "cell_type": "code",
   "execution_count": 53,
   "id": "fdb78f1e",
   "metadata": {},
   "outputs": [
    {
     "data": {
      "text/plain": [
       "-0.5269640298479055"
      ]
     },
     "execution_count": 53,
     "metadata": {},
     "output_type": "execute_result"
    }
   ],
   "source": [
    "model2.score(x_test,y_test)"
   ]
  },
  {
   "cell_type": "code",
   "execution_count": 54,
   "id": "8100e8de",
   "metadata": {},
   "outputs": [],
   "source": [
    "predicts=model2.predict(x_test)"
   ]
  },
  {
   "cell_type": "code",
   "execution_count": 55,
   "id": "e084dc90",
   "metadata": {},
   "outputs": [
    {
     "data": {
      "text/plain": [
       "2.3741463571132506"
      ]
     },
     "execution_count": 55,
     "metadata": {},
     "output_type": "execute_result"
    }
   ],
   "source": [
    "mean_squared_error(y_test,predicts,squared=False)"
   ]
  },
  {
   "cell_type": "markdown",
   "id": "e74d8876",
   "metadata": {},
   "source": [
    "<h3 style=\"color:green\">GradientBootingRegressor</h3>"
   ]
  },
  {
   "cell_type": "code",
   "execution_count": 56,
   "id": "90826432",
   "metadata": {},
   "outputs": [
    {
     "data": {
      "text/plain": [
       "GradientBoostingRegressor(random_state=0)"
      ]
     },
     "execution_count": 56,
     "metadata": {},
     "output_type": "execute_result"
    }
   ],
   "source": [
    "model3=GradientBoostingRegressor(n_estimators = 100, random_state = 0)\n",
    "model3.fit(x_train, y_train)"
   ]
  },
  {
   "cell_type": "code",
   "execution_count": 57,
   "id": "ae45b013",
   "metadata": {},
   "outputs": [
    {
     "data": {
      "text/plain": [
       "0.3510351039596519"
      ]
     },
     "execution_count": 57,
     "metadata": {},
     "output_type": "execute_result"
    }
   ],
   "source": [
    "model3.score(x_train,y_train)"
   ]
  },
  {
   "cell_type": "code",
   "execution_count": 58,
   "id": "b6720142",
   "metadata": {},
   "outputs": [
    {
     "data": {
      "text/plain": [
       "-0.8035773716909667"
      ]
     },
     "execution_count": 58,
     "metadata": {},
     "output_type": "execute_result"
    }
   ],
   "source": [
    "model3.score(x_test,y_test)"
   ]
  },
  {
   "cell_type": "code",
   "execution_count": 59,
   "id": "cad87a3a",
   "metadata": {},
   "outputs": [],
   "source": [
    "predicts=model3.predict(x_test)"
   ]
  },
  {
   "cell_type": "code",
   "execution_count": 60,
   "id": "8d3551cb",
   "metadata": {},
   "outputs": [
    {
     "data": {
      "text/plain": [
       "2.580242198737009"
      ]
     },
     "execution_count": 60,
     "metadata": {},
     "output_type": "execute_result"
    }
   ],
   "source": [
    "mean_squared_error(y_test,predicts,squared=False)"
   ]
  },
  {
   "cell_type": "code",
   "execution_count": 62,
   "id": "05344c75",
   "metadata": {},
   "outputs": [],
   "source": [
    "result=model3.predict(x_test)"
   ]
  },
  {
   "cell_type": "code",
   "execution_count": 63,
   "id": "b4dac2d0",
   "metadata": {},
   "outputs": [
    {
     "name": "stdout",
     "output_type": "stream",
     "text": [
      "[6.67652074 7.2529476  4.89108579 4.48516689 7.57825114 5.53198754\n",
      " 6.14123561 5.49258174 7.57825114 4.89108579 6.82133173 3.49172866\n",
      " 5.07584446 5.07584446 9.43713537 6.14123561 7.57825114 6.39263781]\n"
     ]
    }
   ],
   "source": [
    "print(result)"
   ]
  },
  {
   "cell_type": "markdown",
   "id": "3d914d9e",
   "metadata": {},
   "source": [
    "<h3 style=\"color:green\">Adaboost Classifier</h3>"
   ]
  },
  {
   "cell_type": "code",
   "execution_count": 64,
   "id": "79dad72a",
   "metadata": {},
   "outputs": [
    {
     "data": {
      "text/plain": [
       "AdaBoostRegressor(n_estimators=100, random_state=0)"
      ]
     },
     "execution_count": 64,
     "metadata": {},
     "output_type": "execute_result"
    }
   ],
   "source": [
    "regress=AdaBoostRegressor(random_state=0, n_estimators=100)\n",
    "regress.fit(x_train, y_train)"
   ]
  },
  {
   "cell_type": "code",
   "execution_count": 65,
   "id": "86a2ecf3",
   "metadata": {},
   "outputs": [
    {
     "data": {
      "text/plain": [
       "0.20562468919568444"
      ]
     },
     "execution_count": 65,
     "metadata": {},
     "output_type": "execute_result"
    }
   ],
   "source": [
    "regress.score(x_train,y_train)"
   ]
  },
  {
   "cell_type": "code",
   "execution_count": 66,
   "id": "92815f59",
   "metadata": {},
   "outputs": [
    {
     "data": {
      "text/plain": [
       "-0.4839266940290661"
      ]
     },
     "execution_count": 66,
     "metadata": {},
     "output_type": "execute_result"
    }
   ],
   "source": [
    "regress.score(x_test,y_test)"
   ]
  },
  {
   "cell_type": "code",
   "execution_count": 67,
   "id": "078e2979",
   "metadata": {},
   "outputs": [],
   "source": [
    "predicts=regress.predict(x_test)"
   ]
  },
  {
   "cell_type": "code",
   "execution_count": 68,
   "id": "a9ea0570",
   "metadata": {},
   "outputs": [
    {
     "data": {
      "text/plain": [
       "2.3404496811634106"
      ]
     },
     "execution_count": 68,
     "metadata": {},
     "output_type": "execute_result"
    }
   ],
   "source": [
    "mean_squared_error(y_test,predicts,squared=False)"
   ]
  },
  {
   "cell_type": "code",
   "execution_count": null,
   "id": "ea79a4e6",
   "metadata": {},
   "outputs": [],
   "source": []
  }
 ],
 "metadata": {
  "kernelspec": {
   "display_name": "Python 3 (ipykernel)",
   "language": "python",
   "name": "python3"
  },
  "language_info": {
   "codemirror_mode": {
    "name": "ipython",
    "version": 3
   },
   "file_extension": ".py",
   "mimetype": "text/x-python",
   "name": "python",
   "nbconvert_exporter": "python",
   "pygments_lexer": "ipython3",
   "version": "3.9.7"
  }
 },
 "nbformat": 4,
 "nbformat_minor": 5
}
